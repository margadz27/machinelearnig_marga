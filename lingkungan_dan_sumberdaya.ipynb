{
  "nbformat": 4,
  "nbformat_minor": 0,
  "metadata": {
    "colab": {
      "private_outputs": true,
      "provenance": []
    },
    "kernelspec": {
      "name": "python3",
      "display_name": "Python 3"
    },
    "language_info": {
      "name": "python"
    }
  },
  "cells": [
    {
      "cell_type": "code",
      "execution_count": null,
      "metadata": {
        "id": "Ifw91F5-_H0u"
      },
      "outputs": [],
      "source": [
        "import pandas as pd\n",
        "from google.colab import drive #memanggil package import drive\n",
        "drive.mount('/content/drive')"
      ]
    },
    {
      "cell_type": "code",
      "source": [
        "path = '/content/drive/MyDrive/csv/lingkungan dan sumber daya alam - Sheet1.csv'\n",
        "\n",
        "df = pd.read_csv(path)\n",
        "\n",
        "df.describe()"
      ],
      "metadata": {
        "id": "ispW84zT_Yhd"
      },
      "execution_count": null,
      "outputs": []
    },
    {
      "cell_type": "code",
      "source": [
        "df\n"
      ],
      "metadata": {
        "id": "KyDmGhHpADyR"
      },
      "execution_count": null,
      "outputs": []
    },
    {
      "cell_type": "code",
      "source": [
        "import matplotlib.pyplot as plt\n",
        "\n",
        "df.plot(kind='scatter', x='co', y='so2')\n",
        "\n",
        "plt.title('jumlah tempat kesehatan berdasarkan kategori tempat umum di Jawa Barat ')\n",
        "plt.xlabel('jumlah penduduk')\n",
        "plt.ylabel('indeks')\n",
        "plt.xlim(0,80)\n",
        "plt.ylim(0, 100)\n",
        "plt.grid(True)\n",
        "plt.show()\n"
      ],
      "metadata": {
        "id": "oXvQl74WAG1P"
      },
      "execution_count": null,
      "outputs": []
    },
    {
      "cell_type": "code",
      "source": [
        "import numpy as np\n",
        "x = np.array(df['co'])#feature\n",
        "y = np.array(df['so2'])#target\n",
        "\n",
        "print(f'x : {x}')#data x itu adalah varibale independent atau bebas\n",
        "print(f'x : {y}')#var  itu adalah varibale independent atau terikat"
      ],
      "metadata": {
        "id": "TPNm34tAA83R"
      },
      "execution_count": null,
      "outputs": []
    },
    {
      "cell_type": "code",
      "source": [
        "x = x.reshape(-1,1) #reshaping atau slice data\n",
        "x.shape"
      ],
      "metadata": {
        "id": "9uZMgesUCOHs"
      },
      "execution_count": null,
      "outputs": []
    },
    {
      "cell_type": "code",
      "source": [
        "x"
      ],
      "metadata": {
        "id": "nrGb6Mg9CQRt"
      },
      "execution_count": null,
      "outputs": []
    },
    {
      "cell_type": "code",
      "source": [
        "#training model \n",
        "from sklearn.linear_model import LinearRegression #memnggil model regresi linear\n",
        "\n",
        "model = LinearRegression() #varian model bisa di ganti \n",
        "model.fit(x,y) # x feature , y target\n",
        "#(proses nilai x) -------> =  y (target)\n",
        "#menjadi training model "
      ],
      "metadata": {
        "id": "9cC4CxOZCRvm"
      },
      "execution_count": null,
      "outputs": []
    },
    {
      "cell_type": "code",
      "source": [
        "x_vis = np.array([0,100000000]).reshape(-1,1)# pembuatan garis merah pada x \n",
        "y_vis = model.predict(x_vis) #model machine leraning"
      ],
      "metadata": {
        "id": "zFKSes8SCUeE"
      },
      "execution_count": null,
      "outputs": []
    },
    {
      "cell_type": "code",
      "source": [
        "plt.scatter(x,y)\n",
        "plt.plot(x_vis,y_vis, '-r')\n",
        "plt.title('indeks kesejahteraan warga')\n",
        "plt.xlabel('jumlah penduduk')\n",
        "plt.ylabel('indeks')\n",
        "plt.xlim(0,80)\n",
        "plt.ylim(0, 100)\n",
        "plt.grid(True)\n",
        "plt.show()"
      ],
      "metadata": {
        "id": "Bh9ucuiHCcdD"
      },
      "execution_count": null,
      "outputs": []
    },
    {
      "cell_type": "code",
      "source": [
        "fig = plt.figure()\n",
        "ax = fig.add_axes([0,0,1,1])\n",
        "index = (df['co'])\n",
        "jumlah = (df['so2'])\n",
        "c = ['blue', 'red', 'green', 'yellow','purple']\n",
        "plt.title(\"tabel indeks kesejahteraan warga\")\n",
        "plt.xlabel(\"co\")\n",
        "plt.ylabel(\"so2\")\n",
        "plt.bar(index,jumlah, color = c )\n",
        "plt.grid(True)\n",
        "plt.show()"
      ],
      "metadata": {
        "id": "CzOZMuZGCo_r"
      },
      "execution_count": null,
      "outputs": []
    },
    {
      "cell_type": "code",
      "source": [
        "fig = plt.figure()\n",
        "ax = fig.add_axes([0,0,1,1])\n",
        "ax.axis('equal')\n",
        "plt.title(\"ppdb smk al-madani garut\")\n",
        "index = (df['co'])\n",
        "jumlah = (df['so2'])\n",
        "ax.pie(jumlah,labels=index,autopct='1%.2f%%')\n",
        "plt.show()"
      ],
      "metadata": {
        "id": "VqaUJivACpoO"
      },
      "execution_count": null,
      "outputs": []
    },
    {
      "cell_type": "code",
      "source": [
        "print(f'intercpt : {model.intercept_}')\n",
        "print(f'slope : {model.coef_}')"
      ],
      "metadata": {
        "id": "9X2bENH1CsDw"
      },
      "execution_count": null,
      "outputs": []
    },
    {
      "cell_type": "code",
      "source": [
        "volume = np.array([2330,5200,8800,3200,1200]).reshape(-1,1)\n",
        "volume\n"
      ],
      "metadata": {
        "id": "bRYv32-uCuQU"
      },
      "execution_count": null,
      "outputs": []
    },
    {
      "cell_type": "code",
      "source": [
        "prediksi_indeks = model.predict(volume)\n",
        "prediksi_indeks"
      ],
      "metadata": {
        "id": "MfHDngjDZDpo"
      },
      "execution_count": null,
      "outputs": []
    },
    {
      "cell_type": "code",
      "source": [
        "for penduduk,index in zip(volume, prediksi_indeks):\n",
        " print(f'volume : {penduduk} prediksi indeks : {index}')"
      ],
      "metadata": {
        "id": "F04RQX8eZJeM"
      },
      "execution_count": null,
      "outputs": []
    }
  ]
}