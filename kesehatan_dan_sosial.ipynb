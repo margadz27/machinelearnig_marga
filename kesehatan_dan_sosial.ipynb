{
  "nbformat": 4,
  "nbformat_minor": 0,
  "metadata": {
    "colab": {
      "private_outputs": true,
      "provenance": []
    },
    "kernelspec": {
      "name": "python3",
      "display_name": "Python 3"
    },
    "language_info": {
      "name": "python"
    }
  },
  "cells": [
    {
      "cell_type": "code",
      "execution_count": null,
      "metadata": {
        "id": "ixhmbdYEgkrj"
      },
      "outputs": [],
      "source": [
        "import pandas as pd\n",
        "from google.colab import drive #memanggil package import drive\n",
        "drive.mount('/content/drive')"
      ]
    },
    {
      "cell_type": "code",
      "source": [
        "path = '/content/drive/MyDrive/csv/kesehatan dan sosial - Sheet1.csv'\n",
        "\n",
        "df = pd.read_csv(path)\n",
        "\n",
        "df.describe()"
      ],
      "metadata": {
        "id": "yHcn7Bemsblp"
      },
      "execution_count": null,
      "outputs": []
    },
    {
      "cell_type": "code",
      "source": [
        "df\n"
      ],
      "metadata": {
        "id": "9jXbLwjvs-ra"
      },
      "execution_count": null,
      "outputs": []
    },
    {
      "cell_type": "code",
      "source": [
        "import matplotlib.pyplot as plt\n",
        "\n",
        "df.plot(kind='scatter', x='jumlah_tempat_umum', y='kode_kabupaten_kota')\n",
        "\n",
        "plt.title('jumlah tempat kesehatan berdasarkan kategori tempat umum di Jawa Barat ')\n",
        "plt.xlabel('jumlah penduduk')\n",
        "plt.ylabel('indeks')\n",
        "plt.xlim(0,4)\n",
        "plt.ylim(0, 10000)\n",
        "plt.grid(True)\n",
        "plt.show()\n"
      ],
      "metadata": {
        "id": "tN0ka3p-tBb6"
      },
      "execution_count": null,
      "outputs": []
    },
    {
      "cell_type": "code",
      "source": [
        "import numpy as np\n",
        "x = np.array(df['jumlah_tempat_umum'])#feature\n",
        "y = np.array(df['kode_kabupaten_kota'])#target\n",
        "\n",
        "print(f'x : {x}')#data x itu adalah varibale independent atau bebas\n",
        "print(f'x : {y}')#var  itu adalah varibale independent atau terikat"
      ],
      "metadata": {
        "id": "3wAXnvW-tF6S"
      },
      "execution_count": null,
      "outputs": []
    },
    {
      "cell_type": "code",
      "source": [
        "x = x.reshape(-1,1) #reshaping atau slice data\n",
        "x.shape"
      ],
      "metadata": {
        "id": "YORLrOqZt52i"
      },
      "execution_count": null,
      "outputs": []
    },
    {
      "cell_type": "code",
      "source": [
        "x"
      ],
      "metadata": {
        "id": "SH4z65lcuwLD"
      },
      "execution_count": null,
      "outputs": []
    },
    {
      "cell_type": "code",
      "source": [
        "#training model \n",
        "from sklearn.linear_model import LinearRegression #memnggil model regresi linear\n",
        "\n",
        "model = LinearRegression() #varian model bisa di ganti \n",
        "model.fit(x,y) # x feature , y target\n",
        "#(proses nilai x) -------> =  y (target)\n",
        "#menjadi training model "
      ],
      "metadata": {
        "id": "WdYMvTguuxuk"
      },
      "execution_count": null,
      "outputs": []
    },
    {
      "cell_type": "code",
      "source": [
        "x_vis = np.array([0,100000000]).reshape(-1,1)# pembuatan garis merah pada x \n",
        "y_vis = model.predict(x_vis) #model machine leraning"
      ],
      "metadata": {
        "id": "qim_7AxZu1I4"
      },
      "execution_count": null,
      "outputs": []
    },
    {
      "cell_type": "code",
      "source": [
        "plt.scatter(x,y)\n",
        "plt.plot(x_vis,y_vis, '-r')\n",
        "plt.title('indeks kesejahteraan warga')\n",
        "plt.xlabel('jumlah penduduk')\n",
        "plt.ylabel('indeks')\n",
        "plt.xlim(0,3.5)\n",
        "plt.ylim(0, 10000)\n",
        "plt.grid(True)\n",
        "plt.show()"
      ],
      "metadata": {
        "id": "OAAM-oJ-u5pF"
      },
      "execution_count": null,
      "outputs": []
    },
    {
      "cell_type": "code",
      "source": [
        "fig = plt.figure()\n",
        "ax = fig.add_axes([0,0,1,1])\n",
        "index = (df['jumlah_tempat_umum'])\n",
        "jumlah = (df['kode_kabupaten_kota'])\n",
        "c = ['blue', 'red', 'green', 'yellow','purple']\n",
        "plt.title(\"tabel indeks kesejahteraan warga\")\n",
        "plt.xlabel(\"jumlah_tempat_umum \")\n",
        "plt.ylabel(\"kode_kabupaten_kota\")\n",
        "plt.bar(index,jumlah, color = c )\n",
        "plt.grid(True)\n",
        "plt.show()"
      ],
      "metadata": {
        "id": "uUxKTuMku8Ut"
      },
      "execution_count": null,
      "outputs": []
    },
    {
      "cell_type": "code",
      "source": [
        "fig = plt.figure()\n",
        "ax = fig.add_axes([0,0,1,1])\n",
        "ax.axis('equal')\n",
        "plt.title(\"ppdb smk al-madani garut\")\n",
        "index = (df['jumlah_tempat_umum'])\n",
        "jumlah = (df['kode_kabupaten_kota'])\n",
        "ax.pie(jumlah,labels=index,autopct='1%.2f%%')\n",
        "plt.show()"
      ],
      "metadata": {
        "id": "Ry3Bi-mWvP4s"
      },
      "execution_count": null,
      "outputs": []
    },
    {
      "cell_type": "code",
      "source": [
        "print(f'intercpt : {model.intercept_}')\n",
        "print(f'slope : {model.coef_}')"
      ],
      "metadata": {
        "id": "pfY010-gvSw3"
      },
      "execution_count": null,
      "outputs": []
    },
    {
      "cell_type": "code",
      "source": [
        "volume = np.array([2330,5200,8800,3200,1200]).reshape(-1,1)\n",
        "volume"
      ],
      "metadata": {
        "id": "xLA4HXRMvVat"
      },
      "execution_count": null,
      "outputs": []
    },
    {
      "cell_type": "code",
      "source": [
        "prediksi_indeks = model.predict(volume)\n",
        "prediksi_indeks"
      ],
      "metadata": {
        "id": "-kyZyFARvXvu"
      },
      "execution_count": null,
      "outputs": []
    },
    {
      "cell_type": "code",
      "source": [
        "for penduduk,index in zip(volume, prediksi_indeks):\n",
        " print(f'volume : {penduduk} prediksi indeks : {index}')"
      ],
      "metadata": {
        "id": "jY64UdEHYXvu"
      },
      "execution_count": null,
      "outputs": []
    }
  ]
}