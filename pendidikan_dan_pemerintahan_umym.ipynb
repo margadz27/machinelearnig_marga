{
  "nbformat": 4,
  "nbformat_minor": 0,
  "metadata": {
    "colab": {
      "private_outputs": true,
      "provenance": []
    },
    "kernelspec": {
      "name": "python3",
      "display_name": "Python 3"
    },
    "language_info": {
      "name": "python"
    }
  },
  "cells": [
    {
      "cell_type": "code",
      "execution_count": null,
      "metadata": {
        "id": "OEwjzJboidvt"
      },
      "outputs": [],
      "source": [
        "import pandas as pd\n",
        "from google.colab import drive #memanggil package import drive\n",
        "drive.mount('/content/drive')"
      ]
    },
    {
      "cell_type": "code",
      "source": [
        "path = '/content/drive/MyDrive/csv/pendidikan dam pemerintahan umum - Sheet1.csv'\n",
        "\n",
        "df = pd.read_csv(path)\n",
        "\n",
        "df.describe()"
      ],
      "metadata": {
        "id": "j4z7fvZ2izK0"
      },
      "execution_count": null,
      "outputs": []
    },
    {
      "cell_type": "code",
      "source": [
        "df\n"
      ],
      "metadata": {
        "id": "mWGDpxsIjS9S"
      },
      "execution_count": null,
      "outputs": []
    },
    {
      "cell_type": "code",
      "source": [
        "import matplotlib.pyplot as plt\n",
        "\n",
        "df.plot(kind='scatter', x='jumlah_siswa', y='jumlah_guru')\n",
        "\n",
        "plt.title('jumlah tempat kesehatan berdasarkan kategori tempat umum di Jawa Barat ')\n",
        "plt.xlabel('jumlah penduduk')\n",
        "plt.ylabel('indeks')\n",
        "plt.xlim(0,160)\n",
        "plt.ylim(0,40)\n",
        "plt.grid(True)\n",
        "plt.show()\n"
      ],
      "metadata": {
        "id": "zwwvU9XyjWlE"
      },
      "execution_count": null,
      "outputs": []
    },
    {
      "cell_type": "code",
      "source": [
        "import numpy as np\n",
        "x = np.array(df['jumlah_siswa'])#feature\n",
        "y = np.array(df['jumlah_guru'])#target\n",
        "\n",
        "print(f'x : {x}')#data x itu adalah varibale independent atau bebas\n",
        "print(f'x : {y}')#var  itu adalah varibale independent atau terikat"
      ],
      "metadata": {
        "id": "iKo5KMSJkL_U"
      },
      "execution_count": null,
      "outputs": []
    },
    {
      "cell_type": "code",
      "source": [
        "x = x.reshape(-1,1) #reshaping atau slice data\n",
        "x.shape"
      ],
      "metadata": {
        "id": "5-kDFNgAkOwe"
      },
      "execution_count": null,
      "outputs": []
    },
    {
      "cell_type": "code",
      "source": [
        "x"
      ],
      "metadata": {
        "id": "mEMH-glxkbd7"
      },
      "execution_count": null,
      "outputs": []
    },
    {
      "cell_type": "code",
      "source": [
        "#training model \n",
        "from sklearn.linear_model import LinearRegression #memnggil model regresi linear\n",
        "\n",
        "model = LinearRegression() #varian model bisa di ganti \n",
        "model.fit(x,y) # x feature , y target\n",
        "#(proses nilai x) -------> =  y (target)\n",
        "#menjadi training model "
      ],
      "metadata": {
        "id": "ySfv7O_ckdgI"
      },
      "execution_count": null,
      "outputs": []
    },
    {
      "cell_type": "code",
      "source": [
        "x_vis = np.array([0,100000000]).reshape(-1,1)# pembuatan garis merah pada x \n",
        "y_vis = model.predict(x_vis) #model machine leraning"
      ],
      "metadata": {
        "id": "qri-DhC0kiLk"
      },
      "execution_count": null,
      "outputs": []
    },
    {
      "cell_type": "code",
      "source": [
        "plt.scatter(x,y)\n",
        "plt.plot(x_vis,y_vis, '-r')\n",
        "plt.title('indeks kesejahteraan warga')\n",
        "plt.xlabel('jumlah penduduk')\n",
        "plt.ylabel('indeks')\n",
        "plt.xlim(0,160)\n",
        "plt.ylim(0, 40)\n",
        "plt.grid(True)\n",
        "plt.show()"
      ],
      "metadata": {
        "id": "mnYvdzXrklHQ"
      },
      "execution_count": null,
      "outputs": []
    },
    {
      "cell_type": "code",
      "source": [
        "fig = plt.figure()\n",
        "ax = fig.add_axes([0,0,1,1])\n",
        "index = (df['jumlah_siswa'])\n",
        "jumlah = (df['jumlah_guru'])\n",
        "c = ['blue', 'red', 'green', 'yellow','purple']\n",
        "plt.title(\"tabel indeks kesejahteraan warga\")\n",
        "plt.xlabel(\"jumlah_siswa\")\n",
        "plt.ylabel(\"jumlah_guru\")\n",
        "plt.bar(index,jumlah, color = c )\n",
        "plt.grid(True)\n",
        "plt.show()"
      ],
      "metadata": {
        "id": "xc5YRoHSkvZU"
      },
      "execution_count": null,
      "outputs": []
    },
    {
      "cell_type": "code",
      "source": [
        "fig = plt.figure()\n",
        "ax = fig.add_axes([0,0,1,1])\n",
        "ax.axis('equal')\n",
        "plt.title(\"ppdb smk al-madani garut\")\n",
        "plt.xlabel(\"jumlah_siswa\")\n",
        "plt.ylabel(\"jumlah_guru\")\n",
        "ax.pie(jumlah,labels=index,autopct='1%.2f%%')\n",
        "plt.show()"
      ],
      "metadata": {
        "id": "KT6oQMLmk_q8"
      },
      "execution_count": null,
      "outputs": []
    },
    {
      "cell_type": "code",
      "source": [
        "print(f'intercpt : {model.intercept_}')\n",
        "print(f'slope : {model.coef_}')"
      ],
      "metadata": {
        "id": "m5G6qqablLZe"
      },
      "execution_count": null,
      "outputs": []
    },
    {
      "cell_type": "code",
      "source": [
        "volume = np.array([2330,5200,8800,3200,1200]).reshape(-1,1)\n",
        "volume\n"
      ],
      "metadata": {
        "id": "r4v8yXk3lPiO"
      },
      "execution_count": null,
      "outputs": []
    },
    {
      "cell_type": "code",
      "source": [
        "prediksi_indeks = model.predict(volume)\n",
        "prediksi_indeks"
      ],
      "metadata": {
        "id": "PzzcSj9FlSf5"
      },
      "execution_count": null,
      "outputs": []
    },
    {
      "cell_type": "code",
      "source": [
        "for penduduk,index in zip(volume, prediksi_indeks):\n",
        " print(f'volume : {penduduk} prediksi indeks : {index}')"
      ],
      "metadata": {
        "id": "_6h15TGemtbc"
      },
      "execution_count": null,
      "outputs": []
    }
  ]
}